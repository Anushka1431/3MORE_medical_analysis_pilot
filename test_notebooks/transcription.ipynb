{
 "cells": [
  {
   "cell_type": "code",
   "execution_count": null,
   "id": "84a0fda4",
   "metadata": {},
   "outputs": [],
   "source": [
    "!pip install -r requirements.txt"
   ]
  },
  {
   "cell_type": "code",
   "execution_count": null,
   "id": "b986d36c",
   "metadata": {},
   "outputs": [],
   "source": [
    "import requests\n",
    "import os\n",
    "\n",
    "HF_TOKEN = \"YOUR_HF_TOKEN\"  # Replace with your HF token\n",
    "MODEL_ID = \"openai/whisper-large-v3\"\n",
    "\n",
    "# Manually set audio path\n",
    "AUDIO_PATH = \"/path/to/your/audio.wav\"  # Change this to your file location\n",
    "\n",
    "API_URL = f\"https://api-inference.huggingface.co/models/{MODEL_ID}\"\n",
    "headers = {\"Authorization\": f\"Bearer {HF_TOKEN}\"}\n",
    "\n",
    "with open(AUDIO_PATH, \"rb\") as f:\n",
    "    response = requests.post(API_URL, headers=headers, data=f)\n",
    "\n",
    "if response.status_code == 200:\n",
    "    transcription = response.json()\n",
    "    print(\"\\n--- TRANSCRIPTION ---\\n\")\n",
    "    print(transcription.get(\"text\", transcription))\n",
    "else:\n",
    "    print(f\"Error {response.status_code}: {response.text}\")\n"
   ]
  }
 ],
 "metadata": {
  "kernelspec": {
   "display_name": ".venv",
   "language": "python",
   "name": "python3"
  },
  "language_info": {
   "name": "python",
   "version": "3.13.6"
  }
 },
 "nbformat": 4,
 "nbformat_minor": 5
}
