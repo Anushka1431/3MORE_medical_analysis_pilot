{
 "cells": [
  {
   "cell_type": "code",
   "execution_count": null,
   "id": "84a0fda4",
   "metadata": {},
   "outputs": [],
   "source": [
    "! pip install -r requirements.txt"
   ]
  },
  {
   "cell_type": "code",
   "execution_count": null,
   "id": "d94f6501",
   "metadata": {},
   "outputs": [],
   "source": [
    "from pathlib import Path\n",
    "import whisper\n",
    "import os\n",
    "\n",
    "def transcribe_audio(audio_path, model_name=\"tiny\"):\n",
    "    \"\"\"\n",
    "    Transcribes an audio file using Whisper.\n",
    "    \n",
    "    Args:\n",
    "        audio_path (str): Path to the audio file\n",
    "        model_name (str): Whisper model to use ('tiny', 'base', 'small', 'medium', 'large')\n",
    "    \n",
    "    Returns:\n",
    "        str: Transcribed text\n",
    "    \"\"\"\n",
    "    model = whisper.load_model(model_name)\n",
    "    result = model.transcribe(audio_path)\n",
    "    return result[\"text\"]\n",
    "\n",
    "notebook_dir = Path.cwd()\n",
    "\n",
    "project_root = notebook_dir.parent  \n",
    "data_dir = project_root / \"data_samples\"\n",
    "data_dir.mkdir(exist_ok=True) \n",
    "\n",
    "# Relative paths...modify according to your directory structure\n",
    "audio_file_path = data_dir / \"RES0029.mp3\"\n",
    "output_file_path = data_dir / \"transcription2.txt\"\n",
    "\n",
    "if not os.path.isfile(audio_file_path):\n",
    "    print(f\"Error: Audio file '{audio_file_path}' not found.\")\n",
    "else:\n",
    "\n",
    "    print(\"Transcribing audio, please wait...\")\n",
    "    transcription = transcribe_audio(str(audio_file_path))\n",
    "\n",
    "    with open(output_file_path, \"w\", encoding=\"utf-8\") as file:\n",
    "        file.write(transcription)\n",
    "\n",
    "    print(f\"Transcription completed and saved to {output_file_path}\")\n",
    "    print(\"\\nSample of transcription:\")\n",
    "    print(transcription, \"...\") \n"
   ]
  }
 ],
 "metadata": {
  "kernelspec": {
   "display_name": ".venv",
   "language": "python",
   "name": "python3"
  },
  "language_info": {
   "codemirror_mode": {
    "name": "ipython",
    "version": 3
   },
   "file_extension": ".py",
   "mimetype": "text/x-python",
   "name": "python",
   "nbconvert_exporter": "python",
   "pygments_lexer": "ipython3",
   "version": "3.13.6"
  }
 },
 "nbformat": 4,
 "nbformat_minor": 5
}
