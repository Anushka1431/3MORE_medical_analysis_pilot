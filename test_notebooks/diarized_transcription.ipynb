{
 "cells": [
  {
   "cell_type": "code",
   "execution_count": null,
   "id": "48c4fa8c",
   "metadata": {},
   "outputs": [],
   "source": [
    "! pip install -r requirements.txt"
   ]
  },
  {
   "cell_type": "code",
   "execution_count": null,
   "id": "4db130fa",
   "metadata": {},
   "outputs": [],
   "source": [
    "import os\n",
    "import whisper\n",
    "from pyannote.audio import Pipeline\n",
    "from pathlib import Path\n",
    "import torch\n",
    "import torchaudio\n",
    "#device = \"mps\" if torch.backends.mps.is_available() else \"cpu\"\n",
    "\n",
    "notebook_dir = Path.cwd()\n",
    "\n",
    "project_root = notebook_dir.parent  \n",
    "data_dir = project_root / \"data_samples\"\n",
    "data_dir.mkdir(exist_ok=True) \n",
    "\n",
    "# Relative paths...modify according to your directory structure\n",
    "audio_file_path = data_dir / \"RES0029.mp3\"\n",
    "output_file_path = data_dir / \"transcription2.txt\"\n",
    "whisper_model = whisper.load_model(\"base\")\n",
    "\n",
    "HF_TOKEN = os.getenv(\"HF_TOKEN\")\n",
    "diarization_pipeline = Pipeline.from_pretrained(\"pyannote/speaker-diarization-3.1\", use_auth_token=HF_TOKEN)\n"
   ]
  },
  {
   "cell_type": "code",
   "execution_count": null,
   "id": "9cb9dd25",
   "metadata": {},
   "outputs": [],
   "source": [
    "diarization = diarization_pipeline(audio_file_path)\n",
    "segments = []\n",
    "for turn, _, speaker in diarization.itertracks(yield_label=True):\n",
    "    segments.append({\n",
    "        \"start\": turn.start,\n",
    "        \"end\": turn.end,\n",
    "        \"speaker\": speaker\n",
    "    })\n",
    "\n",
    "print(f\"Found {len(segments)} speaker segments.\")\n",
    "\n"
   ]
  },
  {
   "cell_type": "code",
   "execution_count": null,
   "id": "4dcabe44",
   "metadata": {},
   "outputs": [],
   "source": [
    "def transcribe_segment(audio_path, start_time, end_time, model):\n",
    "    waveform, sample_rate = torchaudio.load(audio_path)\n",
    "    # Trim the audio to the segment\n",
    "    start_sample = int(start_time * sample_rate)\n",
    "    end_sample = int(end_time * sample_rate)\n",
    "    segment_waveform = waveform[:, start_sample:end_sample]\n",
    "\n",
    "    # Save temporary segment file\n",
    "    temp_path = \"temp_segment.wav\"\n",
    "    torchaudio.save(temp_path, segment_waveform, sample_rate)\n",
    "\n",
    "    # Transcribe with Whisper\n",
    "    result = model.transcribe(temp_path)\n",
    "    return result[\"text\"]\n"
   ]
  },
  {
   "cell_type": "code",
   "execution_count": null,
   "id": "360b9627",
   "metadata": {},
   "outputs": [],
   "source": [
    "speaker_map = {\n",
    "    \"SPEAKER_00\": \"Doctor\",\n",
    "    \"SPEAKER_01\": \"Patient\"\n",
    "}\n",
    "speaker_transcripts = []\n",
    "for seg in segments:\n",
    "    text = transcribe_segment(audio_file_path, seg[\"start\"], seg[\"end\"], whisper_model)\n",
    "    speaker_name = speaker_map.get(seg[\"speaker\"], seg[\"speaker\"])\n",
    "    speaker_transcripts.append(f'{seg[\"speaker\"]}: {text}')\n",
    "\n",
    "with open(output_file_path, \"w\", encoding=\"utf-8\") as f:\n",
    "    for line in speaker_transcripts:\n",
    "        f.write(line + \"\\n\")\n",
    "\n",
    "print(f\"Transcription completed and saved to {output_file_path}\")"
   ]
  }
 ],
 "metadata": {
  "kernelspec": {
   "display_name": ".venv",
   "language": "python",
   "name": "python3"
  },
  "language_info": {
   "codemirror_mode": {
    "name": "ipython",
    "version": 3
   },
   "file_extension": ".py",
   "mimetype": "text/x-python",
   "name": "python",
   "nbconvert_exporter": "python",
   "pygments_lexer": "ipython3",
   "version": "3.13.6"
  }
 },
 "nbformat": 4,
 "nbformat_minor": 5
}
